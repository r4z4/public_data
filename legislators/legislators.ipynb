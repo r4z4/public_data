{
 "cells": [
  {
   "cell_type": "code",
   "execution_count": 16,
   "metadata": {},
   "outputs": [],
   "source": [
    "import numpy as np\n",
    "import pandas as pd"
   ]
  },
  {
   "cell_type": "code",
   "execution_count": 1,
   "metadata": {},
   "outputs": [],
   "source": [
    "dtypes = {\n",
    "    \"first_name\": \"category\",\n",
    "    \"gender\": \"category\",\n",
    "    \"type\": \"category\",\n",
    "    \"state\": \"category\",\n",
    "    \"party\": \"category\",\n",
    "}\n",
    "df = pd.read_csv(\n",
    "    \"legislators/legislators-current.csv\",\n",
    "    dtype=dtypes,\n",
    "    usecols=list(dtypes) + [\"birthday\", \"last_name\"],\n",
    "    parse_dates=[\"birthday\"]\n",
    ")"
   ]
  },
  {
   "attachments": {},
   "cell_type": "markdown",
   "metadata": {},
   "source": [
    "The DataFrame uses categorical dtypes for space efficiency: Reduces the memory load on your machine.\n",
    "SQL =>\n",
    "SELECT state, count(name)\n",
    "FROM df\n",
    "GROUP BY state\n",
    "ORDER BY state;"
   ]
  },
  {
   "attachments": {},
   "cell_type": "markdown",
   "metadata": {},
   "source": [
    "Call .groupby() & pass name of column you want to group on, which is \"state\". Then, use [\"last_name\"] to specify columns on which you want to perform the actual aggregation."
   ]
  },
  {
   "cell_type": "code",
   "execution_count": 2,
   "metadata": {},
   "outputs": [
    {
     "data": {
      "text/plain": [
       "state\n",
       "AK     3\n",
       "AL     9\n",
       "AR     6\n",
       "AS     1\n",
       "AZ    11\n",
       "CA    54\n",
       "CO    10\n",
       "CT     7\n",
       "DC     1\n",
       "DE     3\n",
       "Name: last_name, dtype: int64"
      ]
     },
     "execution_count": 2,
     "metadata": {},
     "output_type": "execute_result"
    }
   ],
   "source": [
    "n_by_state = df.groupby(\"state\")[\"last_name\"].count()\n",
    "n_by_state.head(10)"
   ]
  },
  {
   "attachments": {},
   "cell_type": "markdown",
   "metadata": {},
   "source": [
    "Can pass a lot more than just a single column name to .groupby() as the first arg. Can also specify any of the following: 1. List of multiple column names; 2. Dict or pandas Series; 3. NumPy array or pandas Index, or an array-like iterable of these\n",
    "Here’s an example of grouping jointly on two columns, which finds count of Congressional members broken out by state, then by gender: In SQL, it'd be =>\n",
    "SELECT state, gender, count(name)\n",
    "FROM df\n",
    "GROUP BY state, gender\n",
    "ORDER BY state, gender;"
   ]
  },
  {
   "cell_type": "code",
   "execution_count": 3,
   "metadata": {},
   "outputs": [
    {
     "data": {
      "text/plain": [
       "state  gender\n",
       "AK     F         2\n",
       "       M         1\n",
       "AL     F         2\n",
       "       M         7\n",
       "AR     F         0\n",
       "                ..\n",
       "WI     M         8\n",
       "WV     F         2\n",
       "       M         2\n",
       "WY     F         2\n",
       "       M         1\n",
       "Name: last_name, Length: 112, dtype: int64"
      ]
     },
     "execution_count": 3,
     "metadata": {},
     "output_type": "execute_result"
    }
   ],
   "source": [
    "df.groupby([\"state\", \"gender\"])[\"last_name\"].count()"
   ]
  },
  {
   "attachments": {},
   "cell_type": "markdown",
   "metadata": {},
   "source": [
    "Prominent diff between pandas GroupBy & SQL query. SQL result contains three columns: state, gender,count\n",
    "In pandas version, grouped-on columns are pushed into the MultiIndex of the resulting Series by default:"
   ]
  },
  {
   "cell_type": "code",
   "execution_count": 5,
   "metadata": {},
   "outputs": [
    {
     "data": {
      "text/plain": [
       "pandas.core.series.Series"
      ]
     },
     "execution_count": 5,
     "metadata": {},
     "output_type": "execute_result"
    }
   ],
   "source": [
    "n_by_state_gender = df.groupby([\"state\", \"gender\"])[\"last_name\"].count()\n",
    "type(n_by_state_gender)"
   ]
  },
  {
   "cell_type": "code",
   "execution_count": 6,
   "metadata": {},
   "outputs": [
    {
     "data": {
      "text/plain": [
       "MultiIndex([('AK', 'F'),\n",
       "            ('AK', 'M'),\n",
       "            ('AL', 'F'),\n",
       "            ('AL', 'M'),\n",
       "            ('AR', 'F')],\n",
       "           names=['state', 'gender'])"
      ]
     },
     "execution_count": 6,
     "metadata": {},
     "output_type": "execute_result"
    }
   ],
   "source": [
    "n_by_state_gender.index[:5]"
   ]
  },
  {
   "cell_type": "code",
   "execution_count": 12,
   "metadata": {},
   "outputs": [
    {
     "data": {
      "text/plain": [
       "<PandasArray>\n",
       "[2, 1, 2, 7, 0]\n",
       "Length: 5, dtype: int64"
      ]
     },
     "execution_count": 12,
     "metadata": {},
     "output_type": "execute_result"
    }
   ],
   "source": [
    "n_by_state_gender.array[:5]"
   ]
  },
  {
   "attachments": {},
   "cell_type": "markdown",
   "metadata": {},
   "source": [
    "To more closely emulate SQL result and push the grouped-on columns back into columns in the result, you can use as_index=False:\n",
    "Produces DF w/ three columns and a RangeIndex, vs. a Series w/ a MultiIndex."
   ]
  },
  {
   "cell_type": "code",
   "execution_count": 14,
   "metadata": {},
   "outputs": [
    {
     "name": "stdout",
     "output_type": "stream",
     "text": [
      "     last_name first_name   birthday gender type state       party\n",
      "12    Barrasso       John 1952-07-21      M  sen    WY  Republican\n",
      "13      Wicker      Roger 1951-07-05      M  sen    MS  Republican\n",
      "14     Collins      Susan 1952-12-07      F  sen    ME  Republican\n",
      "15      Cornyn       John 1952-02-02      M  sen    TX  Republican\n",
      "17      Graham    Lindsey 1955-07-09      M  sen    SC  Republican\n",
      "..         ...        ...        ...    ...  ...   ...         ...\n",
      "533       Hunt     Wesley 1981-11-13      M  rep    TX  Republican\n",
      "534    Kiggans   Jennifer 1971-06-18      F  rep    VA  Republican\n",
      "537  Van Orden    Derrick 1969-09-15      M  rep    WI  Republican\n",
      "538    Hageman    Harriet 1962-10-18      F  rep    WY  Republican\n",
      "539   Ricketts       Pete 1964-08-19      M  sen    NE  Republican\n",
      "\n",
      "[274 rows x 7 columns]\n"
     ]
    }
   ],
   "source": [
    "print(df.groupby('party').get_group('Republican'))"
   ]
  },
  {
   "cell_type": "code",
   "execution_count": 25,
   "metadata": {},
   "outputs": [
    {
     "name": "stdout",
     "output_type": "stream",
     "text": [
      "1958-10-13 00:00:00\n",
      "1958\n"
     ]
    }
   ],
   "source": [
    "import datetime\n",
    "# Returns a Series\n",
    "# birthday = df['birthday'][:1]\n",
    "birthday = df['birthday'][1]\n",
    "print(birthday)\n",
    "type(birthday)\n",
    "print(birthday.year)\n"
   ]
  },
  {
   "cell_type": "code",
   "execution_count": 29,
   "metadata": {},
   "outputs": [],
   "source": [
    "df['birth_year'] = df['birthday'].map(lambda x: x.year)"
   ]
  },
  {
   "cell_type": "code",
   "execution_count": 30,
   "metadata": {},
   "outputs": [
    {
     "name": "stdout",
     "output_type": "stream",
     "text": [
      "                    mean        std         var\n",
      "party                                          \n",
      "Democrat     1962.992424  13.285400  176.501844\n",
      "Independent  1953.666667  19.399313  376.333333\n",
      "Republican   1964.835766  11.196809  125.368533\n"
     ]
    }
   ],
   "source": [
    "aggs = df.groupby('party')['birth_year'].agg([np.mean, np.std, np.var])\n",
    "print(aggs)"
   ]
  },
  {
   "cell_type": "code",
   "execution_count": 13,
   "metadata": {},
   "outputs": [
    {
     "data": {
      "text/html": [
       "<div>\n",
       "<style scoped>\n",
       "    .dataframe tbody tr th:only-of-type {\n",
       "        vertical-align: middle;\n",
       "    }\n",
       "\n",
       "    .dataframe tbody tr th {\n",
       "        vertical-align: top;\n",
       "    }\n",
       "\n",
       "    .dataframe thead th {\n",
       "        text-align: right;\n",
       "    }\n",
       "</style>\n",
       "<table border=\"1\" class=\"dataframe\">\n",
       "  <thead>\n",
       "    <tr style=\"text-align: right;\">\n",
       "      <th></th>\n",
       "      <th>state</th>\n",
       "      <th>gender</th>\n",
       "      <th>last_name</th>\n",
       "    </tr>\n",
       "  </thead>\n",
       "  <tbody>\n",
       "    <tr>\n",
       "      <th>0</th>\n",
       "      <td>AK</td>\n",
       "      <td>F</td>\n",
       "      <td>2</td>\n",
       "    </tr>\n",
       "    <tr>\n",
       "      <th>1</th>\n",
       "      <td>AK</td>\n",
       "      <td>M</td>\n",
       "      <td>1</td>\n",
       "    </tr>\n",
       "    <tr>\n",
       "      <th>2</th>\n",
       "      <td>AL</td>\n",
       "      <td>F</td>\n",
       "      <td>2</td>\n",
       "    </tr>\n",
       "    <tr>\n",
       "      <th>3</th>\n",
       "      <td>AL</td>\n",
       "      <td>M</td>\n",
       "      <td>7</td>\n",
       "    </tr>\n",
       "    <tr>\n",
       "      <th>4</th>\n",
       "      <td>AR</td>\n",
       "      <td>F</td>\n",
       "      <td>0</td>\n",
       "    </tr>\n",
       "    <tr>\n",
       "      <th>...</th>\n",
       "      <td>...</td>\n",
       "      <td>...</td>\n",
       "      <td>...</td>\n",
       "    </tr>\n",
       "    <tr>\n",
       "      <th>107</th>\n",
       "      <td>WI</td>\n",
       "      <td>M</td>\n",
       "      <td>8</td>\n",
       "    </tr>\n",
       "    <tr>\n",
       "      <th>108</th>\n",
       "      <td>WV</td>\n",
       "      <td>F</td>\n",
       "      <td>2</td>\n",
       "    </tr>\n",
       "    <tr>\n",
       "      <th>109</th>\n",
       "      <td>WV</td>\n",
       "      <td>M</td>\n",
       "      <td>2</td>\n",
       "    </tr>\n",
       "    <tr>\n",
       "      <th>110</th>\n",
       "      <td>WY</td>\n",
       "      <td>F</td>\n",
       "      <td>2</td>\n",
       "    </tr>\n",
       "    <tr>\n",
       "      <th>111</th>\n",
       "      <td>WY</td>\n",
       "      <td>M</td>\n",
       "      <td>1</td>\n",
       "    </tr>\n",
       "  </tbody>\n",
       "</table>\n",
       "<p>112 rows × 3 columns</p>\n",
       "</div>"
      ],
      "text/plain": [
       "    state gender  last_name\n",
       "0      AK      F          2\n",
       "1      AK      M          1\n",
       "2      AL      F          2\n",
       "3      AL      M          7\n",
       "4      AR      F          0\n",
       "..    ...    ...        ...\n",
       "107    WI      M          8\n",
       "108    WV      F          2\n",
       "109    WV      M          2\n",
       "110    WY      F          2\n",
       "111    WY      M          1\n",
       "\n",
       "[112 rows x 3 columns]"
      ]
     },
     "execution_count": 13,
     "metadata": {},
     "output_type": "execute_result"
    }
   ],
   "source": [
    "df.groupby([\"state\", \"gender\"], as_index=False)[\"last_name\"].count()"
   ]
  }
 ],
 "metadata": {
  "kernelspec": {
   "display_name": "Python 3 (ipykernel)",
   "language": "python",
   "name": "python3"
  },
  "orig_nbformat": 4
 },
 "nbformat": 4,
 "nbformat_minor": 2
}
