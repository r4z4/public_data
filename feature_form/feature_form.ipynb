{
 "cells": [
  {
   "cell_type": "code",
   "execution_count": 5,
   "metadata": {},
   "outputs": [],
   "source": [
    "import featureform as ff\n",
    "import pandas as pd\n",
    "import numpy as np\n",
    "import pyarrow as pa\n",
    "import pyarrow.parquet as pq"
   ]
  },
  {
   "cell_type": "code",
   "execution_count": 6,
   "metadata": {},
   "outputs": [],
   "source": [
    "# Need to be in CSV or Parquet\n",
    "df = pd.read_pickle('5_8_weekly_loc_data.pkl')\n",
    "table = pa.Table.from_pandas(df)\n",
    "pq.write_table(table, '5_8_weekly_loc_data.parquet')"
   ]
  },
  {
   "cell_type": "code",
   "execution_count": 8,
   "metadata": {},
   "outputs": [
    {
     "data": {
      "text/html": [
       "<div>\n",
       "<style scoped>\n",
       "    .dataframe tbody tr th:only-of-type {\n",
       "        vertical-align: middle;\n",
       "    }\n",
       "\n",
       "    .dataframe tbody tr th {\n",
       "        vertical-align: top;\n",
       "    }\n",
       "\n",
       "    .dataframe thead th {\n",
       "        text-align: right;\n",
       "    }\n",
       "</style>\n",
       "<table border=\"1\" class=\"dataframe\">\n",
       "  <thead>\n",
       "    <tr style=\"text-align: right;\">\n",
       "      <th></th>\n",
       "      <th>created</th>\n",
       "      <th>location_age</th>\n",
       "      <th>location_name</th>\n",
       "      <th>decision_score</th>\n",
       "      <th>day_of_week</th>\n",
       "      <th>created_time</th>\n",
       "      <th>created_date</th>\n",
       "      <th>created:hour</th>\n",
       "      <th>created:day_part</th>\n",
       "      <th>created:day_of_week</th>\n",
       "      <th>loc_app_delta</th>\n",
       "    </tr>\n",
       "  </thead>\n",
       "  <tbody>\n",
       "    <tr>\n",
       "      <th>0</th>\n",
       "      <td>2023-05-08 14:57:07</td>\n",
       "      <td>308</td>\n",
       "      <td>Aspen Dental - Worcester, MA (Lincoln)</td>\n",
       "      <td>732</td>\n",
       "      <td>Monday</td>\n",
       "      <td>14:57:07</td>\n",
       "      <td>2023-05-08</td>\n",
       "      <td>14</td>\n",
       "      <td>afternoon</td>\n",
       "      <td>0</td>\n",
       "      <td>NaT</td>\n",
       "    </tr>\n",
       "    <tr>\n",
       "      <th>1</th>\n",
       "      <td>2023-05-08 17:23:57</td>\n",
       "      <td>467</td>\n",
       "      <td>Aspen Dental - Pocatello, ID</td>\n",
       "      <td>674</td>\n",
       "      <td>Monday</td>\n",
       "      <td>17:23:57</td>\n",
       "      <td>2023-05-08</td>\n",
       "      <td>17</td>\n",
       "      <td>evening</td>\n",
       "      <td>0</td>\n",
       "      <td>NaT</td>\n",
       "    </tr>\n",
       "    <tr>\n",
       "      <th>2</th>\n",
       "      <td>2023-05-08 19:47:53</td>\n",
       "      <td>467</td>\n",
       "      <td>Aspen Dental - Elk Grove, CA</td>\n",
       "      <td>735</td>\n",
       "      <td>Monday</td>\n",
       "      <td>19:47:53</td>\n",
       "      <td>2023-05-08</td>\n",
       "      <td>19</td>\n",
       "      <td>evening</td>\n",
       "      <td>0</td>\n",
       "      <td>NaT</td>\n",
       "    </tr>\n",
       "    <tr>\n",
       "      <th>3</th>\n",
       "      <td>2023-05-09 14:17:09</td>\n",
       "      <td>308</td>\n",
       "      <td>Aspen Dental - Amsterdam, NY</td>\n",
       "      <td>712</td>\n",
       "      <td>Tuesday</td>\n",
       "      <td>14:17:09</td>\n",
       "      <td>2023-05-09</td>\n",
       "      <td>14</td>\n",
       "      <td>afternoon</td>\n",
       "      <td>1</td>\n",
       "      <td>NaT</td>\n",
       "    </tr>\n",
       "    <tr>\n",
       "      <th>4</th>\n",
       "      <td>2023-05-10 11:58:32</td>\n",
       "      <td>489</td>\n",
       "      <td>Aspen Dental - Hamilton, OH</td>\n",
       "      <td>717</td>\n",
       "      <td>Wednesday</td>\n",
       "      <td>11:58:32</td>\n",
       "      <td>2023-05-10</td>\n",
       "      <td>11</td>\n",
       "      <td>noon</td>\n",
       "      <td>2</td>\n",
       "      <td>NaT</td>\n",
       "    </tr>\n",
       "  </tbody>\n",
       "</table>\n",
       "</div>"
      ],
      "text/plain": [
       "              created  location_age                           location_name  \\\n",
       "0 2023-05-08 14:57:07           308  Aspen Dental - Worcester, MA (Lincoln)   \n",
       "1 2023-05-08 17:23:57           467            Aspen Dental - Pocatello, ID   \n",
       "2 2023-05-08 19:47:53           467            Aspen Dental - Elk Grove, CA   \n",
       "3 2023-05-09 14:17:09           308            Aspen Dental - Amsterdam, NY   \n",
       "4 2023-05-10 11:58:32           489             Aspen Dental - Hamilton, OH   \n",
       "\n",
       "   decision_score day_of_week created_time created_date  created:hour  \\\n",
       "0             732      Monday     14:57:07   2023-05-08            14   \n",
       "1             674      Monday     17:23:57   2023-05-08            17   \n",
       "2             735      Monday     19:47:53   2023-05-08            19   \n",
       "3             712     Tuesday     14:17:09   2023-05-09            14   \n",
       "4             717   Wednesday     11:58:32   2023-05-10            11   \n",
       "\n",
       "  created:day_part  created:day_of_week loc_app_delta  \n",
       "0        afternoon                    0           NaT  \n",
       "1          evening                    0           NaT  \n",
       "2          evening                    0           NaT  \n",
       "3        afternoon                    1           NaT  \n",
       "4             noon                    2           NaT  "
      ]
     },
     "execution_count": 8,
     "metadata": {},
     "output_type": "execute_result"
    }
   ],
   "source": [
    "df.head()"
   ]
  },
  {
   "cell_type": "code",
   "execution_count": 7,
   "metadata": {},
   "outputs": [],
   "source": [
    "ff.register_user(\"r4z4\").make_default_owner()\n",
    "\n",
    "local = ff.register_local()\n",
    "\n",
    "applications = local.register_file(\n",
    "    name=\"5_8_weekly_loc_data_applications\",\n",
    "    variant=\"quickstart\",\n",
    "    description=\"A dataset of applications for the week of 5/8/23\",\n",
    "    path=\"5_8_weekly_loc_data.parquet\"\n",
    ")"
   ]
  },
  {
   "cell_type": "code",
   "execution_count": 9,
   "metadata": {},
   "outputs": [],
   "source": [
    "# define a DF transformation on our dataset.\n",
    "@local.df_transformation(variant=\"quickstart\",\n",
    "                         inputs=[(\"applications\", \"quickstart\")])\n",
    "def average_location_decision_score(applications):\n",
    "    \"\"\"the average application decision score \"\"\"\n",
    "    return applications.groupby(\"location_name\")[\"decision_score\"].mean()"
   ]
  },
  {
   "cell_type": "code",
   "execution_count": null,
   "metadata": {},
   "outputs": [],
   "source": [
    "# register a passenger entity to associate w/ a feature & label."
   ]
  },
  {
   "cell_type": "code",
   "execution_count": 10,
   "metadata": {},
   "outputs": [],
   "source": [
    "@ff.entity\n",
    "class User:\n",
    "    avg_decision_scores = ff.Feature(\n",
    "        average_location_decision_score[[\"location_name\", \"decision_score\"]],\n",
    "        variant=\"quickstart\",\n",
    "        type=ff.Int32,\n",
    "        inference_store=local,\n",
    "    )\n",
    "\n",
    "    fraudulent = ff.Label(\n",
    "        applications[[\"location_name\", \"IsFraud\"]],\n",
    "        variant=\"quickstart\",\n",
    "        type=ff.Bool,\n",
    "    )"
   ]
  },
  {
   "cell_type": "code",
   "execution_count": null,
   "metadata": {},
   "outputs": [],
   "source": [
    "# join together the feature and label into a training set."
   ]
  },
  {
   "cell_type": "code",
   "execution_count": 11,
   "metadata": {},
   "outputs": [],
   "source": [
    "# ff.Labels & ff.Features above\n",
    "ff.register_training_set(\n",
    "    \"fraud_training\", \"quickstart\",\n",
    "    label=(\"fraudulent\", \"quickstart\"),\n",
    "    features=[(\"avg_decision_scores\", \"quickstart\")],\n",
    ")"
   ]
  },
  {
   "cell_type": "code",
   "execution_count": null,
   "metadata": {},
   "outputs": [],
   "source": [
    "# Now that our definitions are complete, we can apply it to our Featureform instance.\n",
    "## featureform apply definitions.py --local"
   ]
  }
 ],
 "metadata": {
  "kernelspec": {
   "display_name": "Python 3 (ipykernel)",
   "language": "python",
   "name": "python3"
  },
  "language_info": {
   "codemirror_mode": {
    "name": "ipython",
    "version": 3
   },
   "file_extension": ".py",
   "mimetype": "text/x-python",
   "name": "python",
   "nbconvert_exporter": "python",
   "pygments_lexer": "ipython3",
   "version": "3.8.16"
  },
  "orig_nbformat": 4
 },
 "nbformat": 4,
 "nbformat_minor": 2
}
