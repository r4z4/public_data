{
 "cells": [
  {
   "cell_type": "code",
   "execution_count": 1,
   "metadata": {},
   "outputs": [
    {
     "name": "stderr",
     "output_type": "stream",
     "text": [
      "2023-05-10 01:14:59.441618: I tensorflow/tsl/cuda/cudart_stub.cc:28] Could not find cuda drivers on your machine, GPU will not be used.\n",
      "2023-05-10 01:14:59.654614: I tensorflow/tsl/cuda/cudart_stub.cc:28] Could not find cuda drivers on your machine, GPU will not be used.\n",
      "2023-05-10 01:14:59.659812: I tensorflow/core/platform/cpu_feature_guard.cc:182] This TensorFlow binary is optimized to use available CPU instructions in performance-critical operations.\n",
      "To enable the following instructions: AVX2 FMA, in other operations, rebuild TensorFlow with the appropriate compiler flags.\n",
      "2023-05-10 01:15:01.889329: W tensorflow/compiler/tf2tensorrt/utils/py_utils.cc:38] TF-TRT Warning: Could not find TensorRT\n"
     ]
    }
   ],
   "source": [
    "import numpy as np\n",
    "import polars as pl\n",
    "import tensorflow as tf\n",
    "\n",
    "from tensorflow.keras import layers"
   ]
  },
  {
   "cell_type": "code",
   "execution_count": 6,
   "metadata": {},
   "outputs": [],
   "source": [
    "from typing import Tuple"
   ]
  },
  {
   "cell_type": "code",
   "execution_count": 2,
   "metadata": {},
   "outputs": [
    {
     "data": {
      "text/html": [
       "<div><style>\n",
       ".dataframe > thead > tr > th,\n",
       ".dataframe > tbody > tr > td {\n",
       "  text-align: right;\n",
       "}\n",
       "</style>\n",
       "<small>shape: (5, 18)</small><table border=\"1\" class=\"dataframe\"><thead><tr><th>tu_fico_9</th><th>tradeline_count</th><th>inquiry_count</th><th>collection_count</th><th>revolving_utilization</th><th>delinquent_secured</th><th>delinquent_unsecured</th><th>bankruptcy_count</th><th>stated_indiv_income</th><th>stated_additional_income</th><th>tu_income_estimate</th><th>tu_monthly_payments</th><th>tu_mortgage_payments</th><th>riskview</th><th>principal</th><th>cpb</th><th>days_delinquent</th><th>payment_history</th></tr><tr><td>i64</td><td>i64</td><td>i64</td><td>i64</td><td>i64</td><td>i64</td><td>i64</td><td>i64</td><td>i64</td><td>i64</td><td>i64</td><td>i64</td><td>i64</td><td>i64</td><td>i64</td><td>f64</td><td>i64</td><td>str</td></tr></thead><tbody><tr><td>498</td><td>1</td><td>0</td><td>1</td><td>0</td><td>0</td><td>0</td><td>0</td><td>24000</td><td>0</td><td>35</td><td>46</td><td>0</td><td>null</td><td>null</td><td>null</td><td>null</td><td>&quot;open;2019-05-1…</td></tr><tr><td>612</td><td>7</td><td>5</td><td>1</td><td>63</td><td>0</td><td>0</td><td>0</td><td>30000</td><td>0</td><td>29</td><td>126</td><td>0</td><td>706</td><td>null</td><td>null</td><td>null</td><td>&quot;installment;20…</td></tr><tr><td>617</td><td>21</td><td>8</td><td>0</td><td>32</td><td>0</td><td>0</td><td>0</td><td>60000</td><td>0</td><td>39</td><td>1186</td><td>1075</td><td>779</td><td>null</td><td>null</td><td>null</td><td>&quot;installment;20…</td></tr><tr><td>647</td><td>10</td><td>1</td><td>0</td><td>64</td><td>0</td><td>0</td><td>0</td><td>400000</td><td>0</td><td>68</td><td>649</td><td>0</td><td>724</td><td>null</td><td>null</td><td>null</td><td>&quot;installment;20…</td></tr><tr><td>647</td><td>16</td><td>7</td><td>4</td><td>56</td><td>0</td><td>0</td><td>0</td><td>65000</td><td>0</td><td>55</td><td>1074</td><td>0</td><td>660</td><td>null</td><td>null</td><td>null</td><td>&quot;installment;20…</td></tr></tbody></table></div>"
      ],
      "text/plain": [
       "shape: (5, 18)\n",
       "┌───────────┬────────────┬────────────┬────────────┬───┬───────────┬──────┬────────────┬────────────┐\n",
       "│ tu_fico_9 ┆ tradeline_ ┆ inquiry_co ┆ collection ┆ … ┆ principal ┆ cpb  ┆ days_delin ┆ payment_hi │\n",
       "│ ---       ┆ count      ┆ unt        ┆ _count     ┆   ┆ ---       ┆ ---  ┆ quent      ┆ story      │\n",
       "│ i64       ┆ ---        ┆ ---        ┆ ---        ┆   ┆ i64       ┆ f64  ┆ ---        ┆ ---        │\n",
       "│           ┆ i64        ┆ i64        ┆ i64        ┆   ┆           ┆      ┆ i64        ┆ str        │\n",
       "╞═══════════╪════════════╪════════════╪════════════╪═══╪═══════════╪══════╪════════════╪════════════╡\n",
       "│ 498       ┆ 1          ┆ 0          ┆ 1          ┆ … ┆ null      ┆ null ┆ null       ┆ open;2019- │\n",
       "│           ┆            ┆            ┆            ┆   ┆           ┆      ┆            ┆ 05-10;2021 │\n",
       "│           ┆            ┆            ┆            ┆   ┆           ┆      ┆            ┆ -04-03;154 │\n",
       "│           ┆            ┆            ┆            ┆   ┆           ┆      ┆            ┆ 3;…        │\n",
       "│ 612       ┆ 7          ┆ 5          ┆ 1          ┆ … ┆ null      ┆ null ┆ null       ┆ installmen │\n",
       "│           ┆            ┆            ┆            ┆   ┆           ┆      ┆            ┆ t;2019-10- │\n",
       "│           ┆            ┆            ┆            ┆   ┆           ┆      ┆            ┆ 05;2019-11 │\n",
       "│           ┆            ┆            ┆            ┆   ┆           ┆      ┆            ┆ -0…        │\n",
       "│ 617       ┆ 21         ┆ 8          ┆ 0          ┆ … ┆ null      ┆ null ┆ null       ┆ installmen │\n",
       "│           ┆            ┆            ┆            ┆   ┆           ┆      ┆            ┆ t;2013-06- │\n",
       "│           ┆            ┆            ┆            ┆   ┆           ┆      ┆            ┆ 11;2016-10 │\n",
       "│           ┆            ┆            ┆            ┆   ┆           ┆      ┆            ┆ -1…        │\n",
       "│ 647       ┆ 10         ┆ 1          ┆ 0          ┆ … ┆ null      ┆ null ┆ null       ┆ installmen │\n",
       "│           ┆            ┆            ┆            ┆   ┆           ┆      ┆            ┆ t;2009-09- │\n",
       "│           ┆            ┆            ┆            ┆   ┆           ┆      ┆            ┆ 18;2013-06 │\n",
       "│           ┆            ┆            ┆            ┆   ┆           ┆      ┆            ┆ -2…        │\n",
       "│ 647       ┆ 16         ┆ 7          ┆ 4          ┆ … ┆ null      ┆ null ┆ null       ┆ installmen │\n",
       "│           ┆            ┆            ┆            ┆   ┆           ┆      ┆            ┆ t;2007-10- │\n",
       "│           ┆            ┆            ┆            ┆   ┆           ┆      ┆            ┆ 19;2011-09 │\n",
       "│           ┆            ┆            ┆            ┆   ┆           ┆      ┆            ┆ -2…        │\n",
       "└───────────┴────────────┴────────────┴────────────┴───┴───────────┴──────┴────────────┴────────────┘"
      ]
     },
     "execution_count": 2,
     "metadata": {},
     "output_type": "execute_result"
    }
   ],
   "source": [
    "# tf.keras.utils.get_file('petfinder_mini.zip', dataset_url,\n",
    "#                        extract=True, cache_dir='.')\n",
    "csv_file = 'eda_ds.csv'\n",
    "df = pl.read_csv(csv_file)\n",
    "df.head()"
   ]
  },
  {
   "cell_type": "code",
   "execution_count": null,
   "metadata": {},
   "outputs": [],
   "source": [
    "# New column not based on existing\n",
    "# df.with_columns(new_column = pl.lit('some_text'))"
   ]
  },
  {
   "cell_type": "code",
   "execution_count": 9,
   "metadata": {},
   "outputs": [
    {
     "data": {
      "text/html": [
       "<div><style>\n",
       ".dataframe > thead > tr > th,\n",
       ".dataframe > tbody > tr > td {\n",
       "  text-align: right;\n",
       "}\n",
       "</style>\n",
       "<small>shape: (5, 19)</small><table border=\"1\" class=\"dataframe\"><thead><tr><th>tu_fico_9</th><th>tradeline_count</th><th>inquiry_count</th><th>collection_count</th><th>revolving_utilization</th><th>delinquent_secured</th><th>delinquent_unsecured</th><th>bankruptcy_count</th><th>stated_indiv_income</th><th>stated_additional_income</th><th>tu_income_estimate</th><th>tu_monthly_payments</th><th>tu_mortgage_payments</th><th>riskview</th><th>principal</th><th>cpb</th><th>days_delinquent</th><th>payment_history</th><th>target</th></tr><tr><td>i64</td><td>i64</td><td>i64</td><td>i64</td><td>i64</td><td>i64</td><td>i64</td><td>i64</td><td>i64</td><td>i64</td><td>i64</td><td>i64</td><td>i64</td><td>i64</td><td>i64</td><td>f64</td><td>i64</td><td>str</td><td>i64</td></tr></thead><tbody><tr><td>498</td><td>1</td><td>0</td><td>1</td><td>0</td><td>0</td><td>0</td><td>0</td><td>24000</td><td>0</td><td>35</td><td>46</td><td>0</td><td>null</td><td>null</td><td>null</td><td>null</td><td>&quot;open;2019-05-1…</td><td>24000</td></tr><tr><td>612</td><td>7</td><td>5</td><td>1</td><td>63</td><td>0</td><td>0</td><td>0</td><td>30000</td><td>0</td><td>29</td><td>126</td><td>0</td><td>706</td><td>null</td><td>null</td><td>null</td><td>&quot;installment;20…</td><td>30000</td></tr><tr><td>617</td><td>21</td><td>8</td><td>0</td><td>32</td><td>0</td><td>0</td><td>0</td><td>60000</td><td>0</td><td>39</td><td>1186</td><td>1075</td><td>779</td><td>null</td><td>null</td><td>null</td><td>&quot;installment;20…</td><td>60000</td></tr><tr><td>647</td><td>10</td><td>1</td><td>0</td><td>64</td><td>0</td><td>0</td><td>0</td><td>400000</td><td>0</td><td>68</td><td>649</td><td>0</td><td>724</td><td>null</td><td>null</td><td>null</td><td>&quot;installment;20…</td><td>400000</td></tr><tr><td>647</td><td>16</td><td>7</td><td>4</td><td>56</td><td>0</td><td>0</td><td>0</td><td>65000</td><td>0</td><td>55</td><td>1074</td><td>0</td><td>660</td><td>null</td><td>null</td><td>null</td><td>&quot;installment;20…</td><td>65000</td></tr></tbody></table></div>"
      ],
      "text/plain": [
       "shape: (5, 19)\n",
       "┌───────────┬────────────┬────────────┬────────────┬───┬──────┬────────────┬──────────────┬────────┐\n",
       "│ tu_fico_9 ┆ tradeline_ ┆ inquiry_co ┆ collection ┆ … ┆ cpb  ┆ days_delin ┆ payment_hist ┆ target │\n",
       "│ ---       ┆ count      ┆ unt        ┆ _count     ┆   ┆ ---  ┆ quent      ┆ ory          ┆ ---    │\n",
       "│ i64       ┆ ---        ┆ ---        ┆ ---        ┆   ┆ f64  ┆ ---        ┆ ---          ┆ i64    │\n",
       "│           ┆ i64        ┆ i64        ┆ i64        ┆   ┆      ┆ i64        ┆ str          ┆        │\n",
       "╞═══════════╪════════════╪════════════╪════════════╪═══╪══════╪════════════╪══════════════╪════════╡\n",
       "│ 498       ┆ 1          ┆ 0          ┆ 1          ┆ … ┆ null ┆ null       ┆ open;2019-05 ┆ 24000  │\n",
       "│           ┆            ┆            ┆            ┆   ┆      ┆            ┆ -10;2021-04- ┆        │\n",
       "│           ┆            ┆            ┆            ┆   ┆      ┆            ┆ 03;1543;…    ┆        │\n",
       "│ 612       ┆ 7          ┆ 5          ┆ 1          ┆ … ┆ null ┆ null       ┆ installment; ┆ 30000  │\n",
       "│           ┆            ┆            ┆            ┆   ┆      ┆            ┆ 2019-10-05;2 ┆        │\n",
       "│           ┆            ┆            ┆            ┆   ┆      ┆            ┆ 019-11-0…    ┆        │\n",
       "│ 617       ┆ 21         ┆ 8          ┆ 0          ┆ … ┆ null ┆ null       ┆ installment; ┆ 60000  │\n",
       "│           ┆            ┆            ┆            ┆   ┆      ┆            ┆ 2013-06-11;2 ┆        │\n",
       "│           ┆            ┆            ┆            ┆   ┆      ┆            ┆ 016-10-1…    ┆        │\n",
       "│ 647       ┆ 10         ┆ 1          ┆ 0          ┆ … ┆ null ┆ null       ┆ installment; ┆ 400000 │\n",
       "│           ┆            ┆            ┆            ┆   ┆      ┆            ┆ 2009-09-18;2 ┆        │\n",
       "│           ┆            ┆            ┆            ┆   ┆      ┆            ┆ 013-06-2…    ┆        │\n",
       "│ 647       ┆ 16         ┆ 7          ┆ 4          ┆ … ┆ null ┆ null       ┆ installment; ┆ 65000  │\n",
       "│           ┆            ┆            ┆            ┆   ┆      ┆            ┆ 2007-10-19;2 ┆        │\n",
       "│           ┆            ┆            ┆            ┆   ┆      ┆            ┆ 011-09-2…    ┆        │\n",
       "└───────────┴────────────┴────────────┴────────────┴───┴──────┴────────────┴──────────────┴────────┘"
      ]
     },
     "execution_count": 9,
     "metadata": {},
     "output_type": "execute_result"
    }
   ],
   "source": [
    "# In the original dataset, `'AdoptionSpeed'` of `4` indicates\n",
    "# a pet was not adopted.\n",
    "# df['target'] = np.where(dataframe['AdoptionSpeed']==4, 0, 1)\n",
    "df = df.with_columns([(pl.col(\"stated_indiv_income\")).alias(\"target\")])\n",
    "df.head()\n",
    "\n",
    "# Drop unused features.\n",
    "# df = df.drop(columns=['AdoptionSpeed', 'Description'])"
   ]
  },
  {
   "cell_type": "code",
   "execution_count": 69,
   "metadata": {},
   "outputs": [
    {
     "data": {
      "text/html": [
       "<div><style>\n",
       ".dataframe > thead > tr > th,\n",
       ".dataframe > tbody > tr > td {\n",
       "  text-align: right;\n",
       "}\n",
       "</style>\n",
       "<small>shape: (99, 1)</small><table border=\"1\" class=\"dataframe\"><thead><tr><th>target</th></tr><tr><td>i64</td></tr></thead><tbody><tr><td>24000</td></tr><tr><td>30000</td></tr><tr><td>60000</td></tr><tr><td>400000</td></tr><tr><td>65000</td></tr><tr><td>70000</td></tr><tr><td>27000</td></tr><tr><td>70000</td></tr><tr><td>81000</td></tr><tr><td>107000</td></tr><tr><td>75000</td></tr><tr><td>69000</td></tr><tr><td>&hellip;</td></tr><tr><td>70000</td></tr><tr><td>51000</td></tr><tr><td>26400</td></tr><tr><td>31000</td></tr><tr><td>60000</td></tr><tr><td>320000</td></tr><tr><td>20040</td></tr><tr><td>30000</td></tr><tr><td>35000</td></tr><tr><td>25000</td></tr><tr><td>32000</td></tr><tr><td>60000</td></tr></tbody></table></div>"
      ],
      "text/plain": [
       "shape: (99, 1)\n",
       "┌────────┐\n",
       "│ target │\n",
       "│ ---    │\n",
       "│ i64    │\n",
       "╞════════╡\n",
       "│ 24000  │\n",
       "│ 30000  │\n",
       "│ 60000  │\n",
       "│ 400000 │\n",
       "│ …      │\n",
       "│ 35000  │\n",
       "│ 25000  │\n",
       "│ 32000  │\n",
       "│ 60000  │\n",
       "└────────┘"
      ]
     },
     "execution_count": 69,
     "metadata": {},
     "output_type": "execute_result"
    }
   ],
   "source": [
    "df.select('target')"
   ]
  },
  {
   "attachments": {},
   "cell_type": "markdown",
   "metadata": {},
   "source": [
    "## Split the DataFrame into training, validation, and test sets"
   ]
  },
  {
   "cell_type": "code",
   "execution_count": 63,
   "metadata": {},
   "outputs": [],
   "source": [
    "# train, val, test = np.split(df.sample(fraction=1), [int(0.8*len(df)), int(0.9*len(df))])"
   ]
  },
  {
   "cell_type": "code",
   "execution_count": 10,
   "metadata": {},
   "outputs": [],
   "source": [
    "def train_test_split(\n",
    "    df: pl.DataFrame, train_fraction: float = 0.75\n",
    ") -> Tuple[pl.DataFrame, pl.DataFrame, pl.DataFrame]:\n",
    "    \"\"\"Split polars dataframe into two sets.\n",
    "    Args:\n",
    "        df (pl.DataFrame): Dataframe to split\n",
    "        train_fraction (float, optional): Fraction that goes to train. Defaults to 0.75.\n",
    "    Returns:\n",
    "        Tuple[pl.DataFrame, pl.DataFrame]: Tuple of train and test dataframes\n",
    "    \"\"\"\n",
    "    df = df.with_columns(pl.all().shuffle(seed=1))\n",
    "    split_index = int(train_fraction * len(df))\n",
    "    df_train = df[:split_index]\n",
    "    df_test = df[split_index:]\n",
    "    half = int(len(df_test)/2)\n",
    "    val = df_test[half:]\n",
    "    test = df_test[:half]\n",
    "    return (df_train, test, val)"
   ]
  },
  {
   "cell_type": "code",
   "execution_count": 11,
   "metadata": {},
   "outputs": [],
   "source": [
    "train, test, val = train_test_split(df)"
   ]
  },
  {
   "cell_type": "code",
   "execution_count": 12,
   "metadata": {},
   "outputs": [
    {
     "name": "stdout",
     "output_type": "stream",
     "text": [
      "74 training examples\n",
      "13 validation examples\n",
      "12 test examples\n"
     ]
    }
   ],
   "source": [
    "print(len(train), 'training examples')\n",
    "print(len(val), 'validation examples')\n",
    "print(len(test), 'test examples')"
   ]
  },
  {
   "cell_type": "code",
   "execution_count": 70,
   "metadata": {},
   "outputs": [],
   "source": [
    "train = pl.DataFrame(train)"
   ]
  },
  {
   "attachments": {},
   "cell_type": "markdown",
   "metadata": {},
   "source": [
    "## Create input pipeline using tf.data\n",
    "Create a utility function that converts each training, validation, and test set DataFrame into a `tf.data.Dataset`, then shuffles and batches the data.\n",
    "If you were working with a very large CSV file (so large that it does not fit into memory), you'd use the `tf.data` API to read it from disk directly."
   ]
  },
  {
   "cell_type": "code",
   "execution_count": 13,
   "metadata": {},
   "outputs": [],
   "source": [
    "def df_to_dataset(dataframe, shuffle=True, batch_size=32):\n",
    "  df = dataframe\n",
    "  labels = df.select('target')\n",
    "  df = {key: value[:,tf.newaxis] for key, value in dataframe.items()}\n",
    "  ds = tf.data.Dataset.from_tensor_slices((dict(df), labels))\n",
    "  if shuffle:\n",
    "    ds = ds.shuffle(buffer_size=len(dataframe))\n",
    "  ds = ds.batch(batch_size)\n",
    "  ds = ds.prefetch(batch_size)\n",
    "  return ds"
   ]
  },
  {
   "attachments": {},
   "cell_type": "markdown",
   "metadata": {},
   "source": [
    "Now, use newly created function (`df_to_dataset`) to check format of data that input pipeline helper function returns by calling it on the training data, & use a small batch size to keep the output readable:"
   ]
  },
  {
   "cell_type": "code",
   "execution_count": 14,
   "metadata": {},
   "outputs": [
    {
     "ename": "AttributeError",
     "evalue": "'DataFrame' object has no attribute 'items'",
     "output_type": "error",
     "traceback": [
      "\u001b[0;31m---------------------------------------------------------------------------\u001b[0m",
      "\u001b[0;31mAttributeError\u001b[0m                            Traceback (most recent call last)",
      "Cell \u001b[0;32mIn[14], line 2\u001b[0m\n\u001b[1;32m      1\u001b[0m batch_size \u001b[39m=\u001b[39m \u001b[39m5\u001b[39m\n\u001b[0;32m----> 2\u001b[0m train_ds \u001b[39m=\u001b[39m df_to_dataset(train, batch_size\u001b[39m=\u001b[39;49mbatch_size)\n",
      "Cell \u001b[0;32mIn[13], line 4\u001b[0m, in \u001b[0;36mdf_to_dataset\u001b[0;34m(dataframe, shuffle, batch_size)\u001b[0m\n\u001b[1;32m      2\u001b[0m df \u001b[39m=\u001b[39m dataframe\n\u001b[1;32m      3\u001b[0m labels \u001b[39m=\u001b[39m df\u001b[39m.\u001b[39mselect(\u001b[39m'\u001b[39m\u001b[39mtarget\u001b[39m\u001b[39m'\u001b[39m)\n\u001b[0;32m----> 4\u001b[0m df \u001b[39m=\u001b[39m {key: value[:,tf\u001b[39m.\u001b[39mnewaxis] \u001b[39mfor\u001b[39;00m key, value \u001b[39min\u001b[39;00m dataframe\u001b[39m.\u001b[39;49mitems()}\n\u001b[1;32m      5\u001b[0m ds \u001b[39m=\u001b[39m tf\u001b[39m.\u001b[39mdata\u001b[39m.\u001b[39mDataset\u001b[39m.\u001b[39mfrom_tensor_slices((\u001b[39mdict\u001b[39m(df), labels))\n\u001b[1;32m      6\u001b[0m \u001b[39mif\u001b[39;00m shuffle:\n",
      "\u001b[0;31mAttributeError\u001b[0m: 'DataFrame' object has no attribute 'items'"
     ]
    }
   ],
   "source": [
    "batch_size = 5\n",
    "train_ds = df_to_dataset(train, batch_size=batch_size)"
   ]
  },
  {
   "cell_type": "code",
   "execution_count": null,
   "metadata": {},
   "outputs": [],
   "source": [
    "[(train_features, label_batch)] = train_ds.take(1)\n",
    "print('Every feature:', list(train_features.keys()))\n",
    "print('A batch of ages:', train_features['Age'])\n",
    "print('A batch of targets:', label_batch )"
   ]
  }
 ],
 "metadata": {
  "kernelspec": {
   "display_name": "Python 3 (ipykernel)",
   "language": "python",
   "name": "python3"
  },
  "language_info": {
   "codemirror_mode": {
    "name": "ipython",
    "version": 3
   },
   "file_extension": ".py",
   "mimetype": "text/x-python",
   "name": "python",
   "nbconvert_exporter": "python",
   "pygments_lexer": "ipython3",
   "version": "3.8.16"
  },
  "orig_nbformat": 4
 },
 "nbformat": 4,
 "nbformat_minor": 2
}
