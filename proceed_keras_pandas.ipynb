{
 "cells": [
  {
   "cell_type": "code",
   "execution_count": 22,
   "metadata": {},
   "outputs": [],
   "source": [
    "import numpy as np\n",
    "import pandas as pd\n",
    "import tensorflow as tf\n",
    "\n",
    "from tensorflow.keras import layers"
   ]
  },
  {
   "cell_type": "code",
   "execution_count": 32,
   "metadata": {},
   "outputs": [
    {
     "data": {
      "text/html": [
       "<div>\n",
       "<style scoped>\n",
       "    .dataframe tbody tr th:only-of-type {\n",
       "        vertical-align: middle;\n",
       "    }\n",
       "\n",
       "    .dataframe tbody tr th {\n",
       "        vertical-align: top;\n",
       "    }\n",
       "\n",
       "    .dataframe thead th {\n",
       "        text-align: right;\n",
       "    }\n",
       "</style>\n",
       "<table border=\"1\" class=\"dataframe\">\n",
       "  <thead>\n",
       "    <tr style=\"text-align: right;\">\n",
       "      <th></th>\n",
       "      <th>tu_fico_9</th>\n",
       "      <th>tradeline_count</th>\n",
       "      <th>inquiry_count</th>\n",
       "      <th>collection_count</th>\n",
       "      <th>revolving_utilization</th>\n",
       "      <th>delinquent_secured</th>\n",
       "      <th>delinquent_unsecured</th>\n",
       "      <th>bankruptcy_count</th>\n",
       "      <th>stated_indiv_income</th>\n",
       "      <th>stated_additional_income</th>\n",
       "      <th>tu_income_estimate</th>\n",
       "      <th>tu_monthly_payments</th>\n",
       "      <th>tu_mortgage_payments</th>\n",
       "      <th>riskview</th>\n",
       "      <th>principal</th>\n",
       "      <th>cpb</th>\n",
       "      <th>days_delinquent</th>\n",
       "      <th>payment_history</th>\n",
       "    </tr>\n",
       "  </thead>\n",
       "  <tbody>\n",
       "    <tr>\n",
       "      <th>0</th>\n",
       "      <td>498</td>\n",
       "      <td>1</td>\n",
       "      <td>0</td>\n",
       "      <td>1</td>\n",
       "      <td>0</td>\n",
       "      <td>0</td>\n",
       "      <td>0</td>\n",
       "      <td>0</td>\n",
       "      <td>24000</td>\n",
       "      <td>0</td>\n",
       "      <td>35</td>\n",
       "      <td>46</td>\n",
       "      <td>0</td>\n",
       "      <td>NaN</td>\n",
       "      <td>NaN</td>\n",
       "      <td>NaN</td>\n",
       "      <td>NaN</td>\n",
       "      <td>open;2019-05-10;2021-04-03;1543;0;0;1543;indiv...</td>\n",
       "    </tr>\n",
       "    <tr>\n",
       "      <th>1</th>\n",
       "      <td>612</td>\n",
       "      <td>7</td>\n",
       "      <td>5</td>\n",
       "      <td>1</td>\n",
       "      <td>63</td>\n",
       "      <td>0</td>\n",
       "      <td>0</td>\n",
       "      <td>0</td>\n",
       "      <td>30000</td>\n",
       "      <td>0</td>\n",
       "      <td>29</td>\n",
       "      <td>126</td>\n",
       "      <td>0</td>\n",
       "      <td>706.0</td>\n",
       "      <td>NaN</td>\n",
       "      <td>NaN</td>\n",
       "      <td>NaN</td>\n",
       "      <td>installment;2019-10-05;2019-11-03;0;352;0;0;in...</td>\n",
       "    </tr>\n",
       "    <tr>\n",
       "      <th>2</th>\n",
       "      <td>617</td>\n",
       "      <td>21</td>\n",
       "      <td>8</td>\n",
       "      <td>0</td>\n",
       "      <td>32</td>\n",
       "      <td>0</td>\n",
       "      <td>0</td>\n",
       "      <td>0</td>\n",
       "      <td>60000</td>\n",
       "      <td>0</td>\n",
       "      <td>39</td>\n",
       "      <td>1186</td>\n",
       "      <td>1075</td>\n",
       "      <td>779.0</td>\n",
       "      <td>NaN</td>\n",
       "      <td>NaN</td>\n",
       "      <td>NaN</td>\n",
       "      <td>installment;2013-06-11;2016-10-11;0;5000;0;0;i...</td>\n",
       "    </tr>\n",
       "    <tr>\n",
       "      <th>3</th>\n",
       "      <td>647</td>\n",
       "      <td>10</td>\n",
       "      <td>1</td>\n",
       "      <td>0</td>\n",
       "      <td>64</td>\n",
       "      <td>0</td>\n",
       "      <td>0</td>\n",
       "      <td>0</td>\n",
       "      <td>400000</td>\n",
       "      <td>0</td>\n",
       "      <td>68</td>\n",
       "      <td>649</td>\n",
       "      <td>0</td>\n",
       "      <td>724.0</td>\n",
       "      <td>NaN</td>\n",
       "      <td>NaN</td>\n",
       "      <td>NaN</td>\n",
       "      <td>installment;2009-09-18;2013-06-24;0;35599;0;0;...</td>\n",
       "    </tr>\n",
       "    <tr>\n",
       "      <th>4</th>\n",
       "      <td>647</td>\n",
       "      <td>16</td>\n",
       "      <td>7</td>\n",
       "      <td>4</td>\n",
       "      <td>56</td>\n",
       "      <td>0</td>\n",
       "      <td>0</td>\n",
       "      <td>0</td>\n",
       "      <td>65000</td>\n",
       "      <td>0</td>\n",
       "      <td>55</td>\n",
       "      <td>1074</td>\n",
       "      <td>0</td>\n",
       "      <td>660.0</td>\n",
       "      <td>NaN</td>\n",
       "      <td>NaN</td>\n",
       "      <td>NaN</td>\n",
       "      <td>installment;2007-10-19;2011-09-26;0;14162;0;0;...</td>\n",
       "    </tr>\n",
       "  </tbody>\n",
       "</table>\n",
       "</div>"
      ],
      "text/plain": [
       "   tu_fico_9  tradeline_count  inquiry_count  collection_count  \\\n",
       "0        498                1              0                 1   \n",
       "1        612                7              5                 1   \n",
       "2        617               21              8                 0   \n",
       "3        647               10              1                 0   \n",
       "4        647               16              7                 4   \n",
       "\n",
       "   revolving_utilization  delinquent_secured  delinquent_unsecured  \\\n",
       "0                      0                   0                     0   \n",
       "1                     63                   0                     0   \n",
       "2                     32                   0                     0   \n",
       "3                     64                   0                     0   \n",
       "4                     56                   0                     0   \n",
       "\n",
       "   bankruptcy_count  stated_indiv_income  stated_additional_income  \\\n",
       "0                 0                24000                         0   \n",
       "1                 0                30000                         0   \n",
       "2                 0                60000                         0   \n",
       "3                 0               400000                         0   \n",
       "4                 0                65000                         0   \n",
       "\n",
       "   tu_income_estimate  tu_monthly_payments  tu_mortgage_payments  riskview  \\\n",
       "0                  35                   46                     0       NaN   \n",
       "1                  29                  126                     0     706.0   \n",
       "2                  39                 1186                  1075     779.0   \n",
       "3                  68                  649                     0     724.0   \n",
       "4                  55                 1074                     0     660.0   \n",
       "\n",
       "   principal  cpb  days_delinquent  \\\n",
       "0        NaN  NaN              NaN   \n",
       "1        NaN  NaN              NaN   \n",
       "2        NaN  NaN              NaN   \n",
       "3        NaN  NaN              NaN   \n",
       "4        NaN  NaN              NaN   \n",
       "\n",
       "                                     payment_history  \n",
       "0  open;2019-05-10;2021-04-03;1543;0;0;1543;indiv...  \n",
       "1  installment;2019-10-05;2019-11-03;0;352;0;0;in...  \n",
       "2  installment;2013-06-11;2016-10-11;0;5000;0;0;i...  \n",
       "3  installment;2009-09-18;2013-06-24;0;35599;0;0;...  \n",
       "4  installment;2007-10-19;2011-09-26;0;14162;0;0;...  "
      ]
     },
     "execution_count": 32,
     "metadata": {},
     "output_type": "execute_result"
    }
   ],
   "source": [
    "# tf.keras.utils.get_file('petfinder_mini.zip', dataset_url,\n",
    "#                        extract=True, cache_dir='.')\n",
    "csv_file = 'eda_ds.csv'\n",
    "df = pd.read_csv(csv_file)\n",
    "df.head()"
   ]
  },
  {
   "cell_type": "code",
   "execution_count": 37,
   "metadata": {},
   "outputs": [],
   "source": [
    "df2         = df.copy()\n",
    "col         = 'revolving_utilization'\n",
    "conditions  = [ df2[col] >= 80, (df2[col] < 80) & (df2[col]>= 60), (df2[col] < 60) & (df2[col]>= 40), (df2[col] < 40) & (df2[col]>= 20), df2[col] < 20 ]\n",
    "choices     = [ \"very-high\", 'high', 'medium', 'low', 'very-low' ]\n",
    "    \n",
    "df2[\"revolving_utilization_cat\"] = np.select(conditions, choices, default=np.nan)"
   ]
  },
  {
   "cell_type": "code",
   "execution_count": 38,
   "metadata": {},
   "outputs": [
    {
     "data": {
      "text/html": [
       "<div>\n",
       "<style scoped>\n",
       "    .dataframe tbody tr th:only-of-type {\n",
       "        vertical-align: middle;\n",
       "    }\n",
       "\n",
       "    .dataframe tbody tr th {\n",
       "        vertical-align: top;\n",
       "    }\n",
       "\n",
       "    .dataframe thead th {\n",
       "        text-align: right;\n",
       "    }\n",
       "</style>\n",
       "<table border=\"1\" class=\"dataframe\">\n",
       "  <thead>\n",
       "    <tr style=\"text-align: right;\">\n",
       "      <th></th>\n",
       "      <th>tu_fico_9</th>\n",
       "      <th>tradeline_count</th>\n",
       "      <th>inquiry_count</th>\n",
       "      <th>collection_count</th>\n",
       "      <th>revolving_utilization</th>\n",
       "      <th>delinquent_secured</th>\n",
       "      <th>delinquent_unsecured</th>\n",
       "      <th>bankruptcy_count</th>\n",
       "      <th>stated_indiv_income</th>\n",
       "      <th>stated_additional_income</th>\n",
       "      <th>tu_income_estimate</th>\n",
       "      <th>tu_monthly_payments</th>\n",
       "      <th>tu_mortgage_payments</th>\n",
       "      <th>riskview</th>\n",
       "      <th>principal</th>\n",
       "      <th>cpb</th>\n",
       "      <th>days_delinquent</th>\n",
       "      <th>payment_history</th>\n",
       "      <th>revolving_utilization_cat</th>\n",
       "    </tr>\n",
       "  </thead>\n",
       "  <tbody>\n",
       "    <tr>\n",
       "      <th>0</th>\n",
       "      <td>498</td>\n",
       "      <td>1</td>\n",
       "      <td>0</td>\n",
       "      <td>1</td>\n",
       "      <td>0</td>\n",
       "      <td>0</td>\n",
       "      <td>0</td>\n",
       "      <td>0</td>\n",
       "      <td>24000</td>\n",
       "      <td>0</td>\n",
       "      <td>35</td>\n",
       "      <td>46</td>\n",
       "      <td>0</td>\n",
       "      <td>NaN</td>\n",
       "      <td>NaN</td>\n",
       "      <td>NaN</td>\n",
       "      <td>NaN</td>\n",
       "      <td>open;2019-05-10;2021-04-03;1543;0;0;1543;indiv...</td>\n",
       "      <td>very-low</td>\n",
       "    </tr>\n",
       "    <tr>\n",
       "      <th>1</th>\n",
       "      <td>612</td>\n",
       "      <td>7</td>\n",
       "      <td>5</td>\n",
       "      <td>1</td>\n",
       "      <td>63</td>\n",
       "      <td>0</td>\n",
       "      <td>0</td>\n",
       "      <td>0</td>\n",
       "      <td>30000</td>\n",
       "      <td>0</td>\n",
       "      <td>29</td>\n",
       "      <td>126</td>\n",
       "      <td>0</td>\n",
       "      <td>706.0</td>\n",
       "      <td>NaN</td>\n",
       "      <td>NaN</td>\n",
       "      <td>NaN</td>\n",
       "      <td>installment;2019-10-05;2019-11-03;0;352;0;0;in...</td>\n",
       "      <td>high</td>\n",
       "    </tr>\n",
       "    <tr>\n",
       "      <th>2</th>\n",
       "      <td>617</td>\n",
       "      <td>21</td>\n",
       "      <td>8</td>\n",
       "      <td>0</td>\n",
       "      <td>32</td>\n",
       "      <td>0</td>\n",
       "      <td>0</td>\n",
       "      <td>0</td>\n",
       "      <td>60000</td>\n",
       "      <td>0</td>\n",
       "      <td>39</td>\n",
       "      <td>1186</td>\n",
       "      <td>1075</td>\n",
       "      <td>779.0</td>\n",
       "      <td>NaN</td>\n",
       "      <td>NaN</td>\n",
       "      <td>NaN</td>\n",
       "      <td>installment;2013-06-11;2016-10-11;0;5000;0;0;i...</td>\n",
       "      <td>low</td>\n",
       "    </tr>\n",
       "    <tr>\n",
       "      <th>3</th>\n",
       "      <td>647</td>\n",
       "      <td>10</td>\n",
       "      <td>1</td>\n",
       "      <td>0</td>\n",
       "      <td>64</td>\n",
       "      <td>0</td>\n",
       "      <td>0</td>\n",
       "      <td>0</td>\n",
       "      <td>400000</td>\n",
       "      <td>0</td>\n",
       "      <td>68</td>\n",
       "      <td>649</td>\n",
       "      <td>0</td>\n",
       "      <td>724.0</td>\n",
       "      <td>NaN</td>\n",
       "      <td>NaN</td>\n",
       "      <td>NaN</td>\n",
       "      <td>installment;2009-09-18;2013-06-24;0;35599;0;0;...</td>\n",
       "      <td>high</td>\n",
       "    </tr>\n",
       "    <tr>\n",
       "      <th>4</th>\n",
       "      <td>647</td>\n",
       "      <td>16</td>\n",
       "      <td>7</td>\n",
       "      <td>4</td>\n",
       "      <td>56</td>\n",
       "      <td>0</td>\n",
       "      <td>0</td>\n",
       "      <td>0</td>\n",
       "      <td>65000</td>\n",
       "      <td>0</td>\n",
       "      <td>55</td>\n",
       "      <td>1074</td>\n",
       "      <td>0</td>\n",
       "      <td>660.0</td>\n",
       "      <td>NaN</td>\n",
       "      <td>NaN</td>\n",
       "      <td>NaN</td>\n",
       "      <td>installment;2007-10-19;2011-09-26;0;14162;0;0;...</td>\n",
       "      <td>medium</td>\n",
       "    </tr>\n",
       "  </tbody>\n",
       "</table>\n",
       "</div>"
      ],
      "text/plain": [
       "   tu_fico_9  tradeline_count  inquiry_count  collection_count  \\\n",
       "0        498                1              0                 1   \n",
       "1        612                7              5                 1   \n",
       "2        617               21              8                 0   \n",
       "3        647               10              1                 0   \n",
       "4        647               16              7                 4   \n",
       "\n",
       "   revolving_utilization  delinquent_secured  delinquent_unsecured  \\\n",
       "0                      0                   0                     0   \n",
       "1                     63                   0                     0   \n",
       "2                     32                   0                     0   \n",
       "3                     64                   0                     0   \n",
       "4                     56                   0                     0   \n",
       "\n",
       "   bankruptcy_count  stated_indiv_income  stated_additional_income  \\\n",
       "0                 0                24000                         0   \n",
       "1                 0                30000                         0   \n",
       "2                 0                60000                         0   \n",
       "3                 0               400000                         0   \n",
       "4                 0                65000                         0   \n",
       "\n",
       "   tu_income_estimate  tu_monthly_payments  tu_mortgage_payments  riskview  \\\n",
       "0                  35                   46                     0       NaN   \n",
       "1                  29                  126                     0     706.0   \n",
       "2                  39                 1186                  1075     779.0   \n",
       "3                  68                  649                     0     724.0   \n",
       "4                  55                 1074                     0     660.0   \n",
       "\n",
       "   principal  cpb  days_delinquent  \\\n",
       "0        NaN  NaN              NaN   \n",
       "1        NaN  NaN              NaN   \n",
       "2        NaN  NaN              NaN   \n",
       "3        NaN  NaN              NaN   \n",
       "4        NaN  NaN              NaN   \n",
       "\n",
       "                                     payment_history revolving_utilization_cat  \n",
       "0  open;2019-05-10;2021-04-03;1543;0;0;1543;indiv...                  very-low  \n",
       "1  installment;2019-10-05;2019-11-03;0;352;0;0;in...                      high  \n",
       "2  installment;2013-06-11;2016-10-11;0;5000;0;0;i...                       low  \n",
       "3  installment;2009-09-18;2013-06-24;0;35599;0;0;...                      high  \n",
       "4  installment;2007-10-19;2011-09-26;0;14162;0;0;...                    medium  "
      ]
     },
     "execution_count": 38,
     "metadata": {},
     "output_type": "execute_result"
    }
   ],
   "source": [
    "df2.head()"
   ]
  },
  {
   "cell_type": "code",
   "execution_count": null,
   "metadata": {},
   "outputs": [],
   "source": [
    "# New column not based on existing\n",
    "# df.with_columns(new_column = pl.lit('some_text'))"
   ]
  },
  {
   "cell_type": "code",
   "execution_count": 40,
   "metadata": {},
   "outputs": [],
   "source": [
    "# In the original dataset, `'AdoptionSpeed'` of `4` indicates\n",
    "# a pet was not adopted.\n",
    "df2['multiple_collections'] = np.where(df['collection_count']>=1, 0, 1)\n",
    "\n",
    "# Drop unused features.\n",
    "df = df2.drop(columns=['delinquent_unsecured'])"
   ]
  },
  {
   "attachments": {},
   "cell_type": "markdown",
   "metadata": {},
   "source": [
    "## Split the DataFrame into training, validation, and test sets"
   ]
  },
  {
   "cell_type": "code",
   "execution_count": 41,
   "metadata": {},
   "outputs": [],
   "source": [
    "train, val, test = np.split(df.sample(frac=1), [int(0.8*len(df)), int(0.9*len(df))])"
   ]
  },
  {
   "cell_type": "code",
   "execution_count": 42,
   "metadata": {},
   "outputs": [
    {
     "name": "stdout",
     "output_type": "stream",
     "text": [
      "79 training examples\n",
      "10 validation examples\n",
      "10 test examples\n"
     ]
    }
   ],
   "source": [
    "print(len(train), 'training examples')\n",
    "print(len(val), 'validation examples')\n",
    "print(len(test), 'test examples')"
   ]
  },
  {
   "attachments": {},
   "cell_type": "markdown",
   "metadata": {},
   "source": [
    "## Create input pipeline using tf.data\n",
    "Create a utility function that converts each training, validation, and test set DataFrame into a `tf.data.Dataset`, then shuffles and batches the data.\n",
    "If you were working with a very large CSV file (so large that it does not fit into memory), you'd use the `tf.data` API to read it from disk directly."
   ]
  },
  {
   "cell_type": "code",
   "execution_count": 45,
   "metadata": {},
   "outputs": [],
   "source": [
    "def df_to_dataset(dataframe, shuffle=True, batch_size=32):\n",
    "  df = dataframe.copy()\n",
    "  labels = df.pop('multiple_collections')\n",
    "  df = {key: value[:,tf.newaxis] for key, value in dataframe.items()}\n",
    "  ds = tf.data.Dataset.from_tensor_slices((dict(df), labels))\n",
    "  if shuffle:\n",
    "    ds = ds.shuffle(buffer_size=len(dataframe))\n",
    "  ds = ds.batch(batch_size)\n",
    "  ds = ds.prefetch(batch_size)\n",
    "  return ds"
   ]
  },
  {
   "attachments": {},
   "cell_type": "markdown",
   "metadata": {},
   "source": [
    "Now, use newly created function (`df_to_dataset`) to check format of data that input pipeline helper function returns by calling it on the training data, & use a small batch size to keep the output readable:"
   ]
  },
  {
   "cell_type": "code",
   "execution_count": 46,
   "metadata": {},
   "outputs": [
    {
     "name": "stderr",
     "output_type": "stream",
     "text": [
      "/tmp/ipykernel_23099/2467672315.py:4: FutureWarning: Support for multi-dimensional indexing (e.g. `obj[:, None]`) is deprecated and will be removed in a future version.  Convert to a numpy array before indexing instead.\n",
      "  df = {key: value[:,tf.newaxis] for key, value in dataframe.items()}\n"
     ]
    }
   ],
   "source": [
    "batch_size = 5\n",
    "train_ds = df_to_dataset(train, batch_size=batch_size)"
   ]
  },
  {
   "cell_type": "code",
   "execution_count": 47,
   "metadata": {},
   "outputs": [
    {
     "name": "stdout",
     "output_type": "stream",
     "text": [
      "Every feature: ['tu_fico_9', 'tradeline_count', 'inquiry_count', 'collection_count', 'revolving_utilization', 'delinquent_secured', 'bankruptcy_count', 'stated_indiv_income', 'stated_additional_income', 'tu_income_estimate', 'tu_monthly_payments', 'tu_mortgage_payments', 'riskview', 'principal', 'cpb', 'days_delinquent', 'payment_history', 'revolving_utilization_cat', 'multiple_collections']\n",
      "A batch of tradeline_count: tf.Tensor(\n",
      "[[ 9]\n",
      " [18]\n",
      " [ 9]\n",
      " [14]\n",
      " [31]], shape=(5, 1), dtype=int64)\n",
      "A batch of targets: tf.Tensor([1 1 0 0 0], shape=(5,), dtype=int64)\n"
     ]
    },
    {
     "name": "stderr",
     "output_type": "stream",
     "text": [
      "2023-05-10 01:42:22.146218: I tensorflow/core/common_runtime/executor.cc:1197] [/device:CPU:0] (DEBUG INFO) Executor start aborting (this does not indicate an error and you can ignore this message): INVALID_ARGUMENT: You must feed a value for placeholder tensor 'Placeholder/_5' with dtype int64 and shape [79,1]\n",
      "\t [[{{node Placeholder/_5}}]]\n",
      "2023-05-10 01:42:22.149669: I tensorflow/core/common_runtime/executor.cc:1197] [/device:CPU:0] (DEBUG INFO) Executor start aborting (this does not indicate an error and you can ignore this message): INVALID_ARGUMENT: You must feed a value for placeholder tensor 'Placeholder/_4' with dtype int64 and shape [79,1]\n",
      "\t [[{{node Placeholder/_4}}]]\n"
     ]
    }
   ],
   "source": [
    "[(train_features, label_batch)] = train_ds.take(1)\n",
    "print('Every feature:', list(train_features.keys()))\n",
    "print('A batch of tradeline_count:', train_features['tradeline_count'])\n",
    "print('A batch of targets:', label_batch )"
   ]
  },
  {
   "cell_type": "code",
   "execution_count": 48,
   "metadata": {},
   "outputs": [],
   "source": [
    "def get_normalization_layer(name, dataset):\n",
    "  # Create a Normalization layer for the feature.\n",
    "  normalizer = layers.Normalization(axis=None)\n",
    "\n",
    "  # Prepare a Dataset that only yields the feature.\n",
    "  feature_ds = dataset.map(lambda x, y: x[name])\n",
    "\n",
    "  # Learn the statistics of the data.\n",
    "  normalizer.adapt(feature_ds)\n",
    "\n",
    "  return normalizer"
   ]
  },
  {
   "cell_type": "code",
   "execution_count": 49,
   "metadata": {},
   "outputs": [
    {
     "name": "stderr",
     "output_type": "stream",
     "text": [
      "2023-05-10 01:42:30.881562: I tensorflow/core/common_runtime/executor.cc:1197] [/device:CPU:0] (DEBUG INFO) Executor start aborting (this does not indicate an error and you can ignore this message): INVALID_ARGUMENT: You must feed a value for placeholder tensor 'Placeholder/_1' with dtype int64 and shape [79,1]\n",
      "\t [[{{node Placeholder/_1}}]]\n",
      "2023-05-10 01:42:30.883353: I tensorflow/core/common_runtime/executor.cc:1197] [/device:CPU:0] (DEBUG INFO) Executor start aborting (this does not indicate an error and you can ignore this message): INVALID_ARGUMENT: You must feed a value for placeholder tensor 'Placeholder/_16' with dtype int64 and shape [79,1]\n",
      "\t [[{{node Placeholder/_16}}]]\n"
     ]
    },
    {
     "data": {
      "text/plain": [
       "<tf.Tensor: shape=(5, 1), dtype=float32, numpy=\n",
       "array([[-0.49590552],\n",
       "       [ 0.13597389],\n",
       "       [-0.49590552],\n",
       "       [-0.1448614 ],\n",
       "       [ 1.0486885 ]], dtype=float32)>"
      ]
     },
     "execution_count": 49,
     "metadata": {},
     "output_type": "execute_result"
    }
   ],
   "source": [
    "tradeline_count_col = train_features['tradeline_count']\n",
    "layer = get_normalization_layer('tradeline_count', train_ds)\n",
    "layer(tradeline_count_col)"
   ]
  },
  {
   "attachments": {},
   "cell_type": "markdown",
   "metadata": {},
   "source": [
    "Note: If you have many numeric features (hundreds, or more), it is more efficient to concatenate them first and use a single `tf.keras.layers.Normalization` layer."
   ]
  },
  {
   "cell_type": "code",
   "execution_count": 50,
   "metadata": {},
   "outputs": [],
   "source": [
    "def get_category_encoding_layer(name, dataset, dtype, max_tokens=None):\n",
    "  # Create a layer that turns strings into integer indices.\n",
    "  if dtype == 'string':\n",
    "    index = layers.StringLookup(max_tokens=max_tokens)\n",
    "  # Otherwise, create a layer that turns integer values into integer indices.\n",
    "  else:\n",
    "    index = layers.IntegerLookup(max_tokens=max_tokens)\n",
    "\n",
    "  # Prepare a `tf.data.Dataset` that only yields the feature.\n",
    "  feature_ds = dataset.map(lambda x, y: x[name])\n",
    "\n",
    "  # Learn the set of possible values and assign them a fixed integer index.\n",
    "  index.adapt(feature_ds)\n",
    "\n",
    "  # Encode the integer indices.\n",
    "  encoder = layers.CategoryEncoding(num_tokens=index.vocabulary_size())\n",
    "\n",
    "  # Apply multi-hot encoding to the indices. The lambda function captures the\n",
    "  # layer, so you can use them, or include them in the Keras Functional model later.\n",
    "  return lambda feature: encoder(index(feature))"
   ]
  },
  {
   "cell_type": "code",
   "execution_count": 51,
   "metadata": {},
   "outputs": [
    {
     "name": "stderr",
     "output_type": "stream",
     "text": [
      "2023-05-10 01:43:23.535089: I tensorflow/core/common_runtime/executor.cc:1197] [/device:CPU:0] (DEBUG INFO) Executor start aborting (this does not indicate an error and you can ignore this message): INVALID_ARGUMENT: You must feed a value for placeholder tensor 'Placeholder/_7' with dtype string and shape [79,1]\n",
      "\t [[{{node Placeholder/_7}}]]\n",
      "2023-05-10 01:43:23.537108: I tensorflow/core/common_runtime/executor.cc:1197] [/device:CPU:0] (DEBUG INFO) Executor start aborting (this does not indicate an error and you can ignore this message): INVALID_ARGUMENT: You must feed a value for placeholder tensor 'Placeholder/_17' with dtype int64 and shape [79,1]\n",
      "\t [[{{node Placeholder/_17}}]]\n"
     ]
    },
    {
     "data": {
      "text/plain": [
       "<tf.Tensor: shape=(5, 6), dtype=float32, numpy=\n",
       "array([[0., 0., 0., 1., 0., 0.],\n",
       "       [0., 0., 0., 0., 1., 0.],\n",
       "       [0., 1., 0., 0., 0., 0.],\n",
       "       [0., 0., 0., 0., 0., 1.],\n",
       "       [0., 1., 0., 0., 0., 0.]], dtype=float32)>"
      ]
     },
     "execution_count": 51,
     "metadata": {},
     "output_type": "execute_result"
    }
   ],
   "source": [
    "test_type_col = train_features['revolving_utilization_cat']\n",
    "test_type_layer = get_category_encoding_layer(name='revolving_utilization_cat',\n",
    "                                              dataset=train_ds,\n",
    "                                              dtype='string')\n",
    "test_type_layer(test_type_col)"
   ]
  },
  {
   "attachments": {},
   "cell_type": "markdown",
   "metadata": {},
   "source": [
    "Earlier, you used a small batch size to demonstrate the input pipeline. Let's now create a new input pipeline with a larger batch size of 256:"
   ]
  },
  {
   "cell_type": "code",
   "execution_count": null,
   "metadata": {},
   "outputs": [],
   "source": [
    "batch_size = 256\n",
    "train_ds = df_to_dataset(train, batch_size=batch_size)\n",
    "val_ds = df_to_dataset(val, shuffle=False, batch_size=batch_size)\n",
    "test_ds = df_to_dataset(test, shuffle=False, batch_size=batch_size)"
   ]
  }
 ],
 "metadata": {
  "kernelspec": {
   "display_name": "Python 3 (ipykernel)",
   "language": "python",
   "name": "python3"
  },
  "orig_nbformat": 4
 },
 "nbformat": 4,
 "nbformat_minor": 2
}
